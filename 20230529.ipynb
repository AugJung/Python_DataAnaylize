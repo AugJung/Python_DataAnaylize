{
  "nbformat": 4,
  "nbformat_minor": 0,
  "metadata": {
    "colab": {
      "provenance": [],
      "authorship_tag": "ABX9TyO45ydUTj0nzlJY2ew+8wun",
      "include_colab_link": true
    },
    "kernelspec": {
      "name": "python3",
      "display_name": "Python 3"
    },
    "language_info": {
      "name": "python"
    }
  },
  "cells": [
    {
      "cell_type": "markdown",
      "metadata": {
        "id": "view-in-github",
        "colab_type": "text"
      },
      "source": [
        "<a href=\"https://colab.research.google.com/github/AugJung/Python_DataAnaylize/blob/Python/20230529.ipynb\" target=\"_parent\"><img src=\"https://colab.research.google.com/assets/colab-badge.svg\" alt=\"Open In Colab\"/></a>"
      ]
    },
    {
      "cell_type": "markdown",
      "source": [
        "#Chapter 2. 데이터 수집하기 #"
      ],
      "metadata": {
        "id": "10Oogbm6rB6z"
      }
    },
    {
      "cell_type": "markdown",
      "source": [
        "* 앞에서는 파이썬 딕셔너리 > json.dumps 문자열 변환 > json loads 사용\n",
        "\n",
        "* 지금은 json 문자열 > json.loads에 직접 전:달"
      ],
      "metadata": {
        "id": "yNv_1r0QsBWI"
      }
    },
    {
      "cell_type": "code",
      "execution_count": null,
      "metadata": {
        "id": "MRRT0mlGq-sH",
        "colab": {
          "base_uri": "https://localhost:8080/"
        },
        "outputId": "a4d7b620-6fce-4166-c5f3-c5fb44d313e8"
      },
      "outputs": [
        {
          "output_type": "stream",
          "name": "stdout",
          "text": [
            "정성\n",
            "박해선\n",
            "2022\n"
          ]
        }
      ],
      "source": [
        "import json\n",
        "\n",
        "d3 = json.loads('{\"name\": \"정성\", \"author\":\"박해선\", \"year\":\"2022\"}')\n",
        "\n",
        "print(d3['name'])\n",
        "print(d3['author'])\n",
        "print(d3['year'])"
      ]
    },
    {
      "cell_type": "markdown",
      "source": [
        "* 한가지 키에 여러 값이 들어갈 경우 이를 호출하는 법"
      ],
      "metadata": {
        "id": "_JmzMLh1tQ7n"
      }
    },
    {
      "cell_type": "code",
      "source": [
        "d4 = json.loads('{\"name\": [\"정성용\",\"김다현\"], \"author\" :\"박해선\"}')\n",
        "print(d4['name'][0])\n",
        "print(d4['name'][1])"
      ],
      "metadata": {
        "colab": {
          "base_uri": "https://localhost:8080/"
        },
        "id": "8UgDufIltYfq",
        "outputId": "7e160ecf-f405-40c9-fc45-f91478b66ba2"
      },
      "execution_count": null,
      "outputs": [
        {
          "output_type": "stream",
          "name": "stdout",
          "text": [
            "정성용\n",
            "김다현\n"
          ]
        }
      ]
    },
    {
      "cell_type": "markdown",
      "source": [
        "* json 배열 작성\n",
        "\n",
        "> json 객체를 대괄호 안에 나열"
      ],
      "metadata": {
        "id": "hyfhn6eIuOYO"
      }
    },
    {
      "cell_type": "code",
      "source": [
        "d4_str =\"\"\"\n",
        "[ {\"name\" : \"정성용\", \"author\" : \"박해선\" },\n",
        "{\"name\" : \"정진기\",\"author\" : \"박해수\"}\n",
        "]\n",
        "\"\"\"\n",
        "d4 = json.loads(d4_str)\n",
        "print(d4[0]['name'])\n",
        "print(d4[1]['name'])"
      ],
      "metadata": {
        "colab": {
          "base_uri": "https://localhost:8080/"
        },
        "id": "bBwgycpVuXSa",
        "outputId": "b4cb2295-a0fe-4c63-f142-b207be7d0510"
      },
      "execution_count": null,
      "outputs": [
        {
          "output_type": "stream",
          "name": "stdout",
          "text": [
            "정성용\n",
            "정진기\n"
          ]
        }
      ]
    },
    {
      "cell_type": "markdown",
      "source": [
        "* json 문자열을 데이터 프레임프레임으로 변환하기: read_json 함수"
      ],
      "metadata": {
        "id": "FVVI022CvCHY"
      }
    },
    {
      "cell_type": "code",
      "source": [
        "import pandas as pd\n",
        "pd.read_json(d4_str)\n",
        "pd.DataFrame(d4)"
      ],
      "metadata": {
        "colab": {
          "base_uri": "https://localhost:8080/",
          "height": 112
        },
        "id": "N5pSN9OjvI5G",
        "outputId": "9e764782-d541-4e03-ffff-1ce8422f1dc2"
      },
      "execution_count": null,
      "outputs": [
        {
          "output_type": "execute_result",
          "data": {
            "text/plain": [
              "  name author\n",
              "0  정성용    박해선\n",
              "1  정진기    박해수"
            ],
            "text/html": [
              "\n",
              "  <div id=\"df-4d9a727a-93cb-402d-a8b9-e2b4a7d4df3b\">\n",
              "    <div class=\"colab-df-container\">\n",
              "      <div>\n",
              "<style scoped>\n",
              "    .dataframe tbody tr th:only-of-type {\n",
              "        vertical-align: middle;\n",
              "    }\n",
              "\n",
              "    .dataframe tbody tr th {\n",
              "        vertical-align: top;\n",
              "    }\n",
              "\n",
              "    .dataframe thead th {\n",
              "        text-align: right;\n",
              "    }\n",
              "</style>\n",
              "<table border=\"1\" class=\"dataframe\">\n",
              "  <thead>\n",
              "    <tr style=\"text-align: right;\">\n",
              "      <th></th>\n",
              "      <th>name</th>\n",
              "      <th>author</th>\n",
              "    </tr>\n",
              "  </thead>\n",
              "  <tbody>\n",
              "    <tr>\n",
              "      <th>0</th>\n",
              "      <td>정성용</td>\n",
              "      <td>박해선</td>\n",
              "    </tr>\n",
              "    <tr>\n",
              "      <th>1</th>\n",
              "      <td>정진기</td>\n",
              "      <td>박해수</td>\n",
              "    </tr>\n",
              "  </tbody>\n",
              "</table>\n",
              "</div>\n",
              "      <button class=\"colab-df-convert\" onclick=\"convertToInteractive('df-4d9a727a-93cb-402d-a8b9-e2b4a7d4df3b')\"\n",
              "              title=\"Convert this dataframe to an interactive table.\"\n",
              "              style=\"display:none;\">\n",
              "        \n",
              "  <svg xmlns=\"http://www.w3.org/2000/svg\" height=\"24px\"viewBox=\"0 0 24 24\"\n",
              "       width=\"24px\">\n",
              "    <path d=\"M0 0h24v24H0V0z\" fill=\"none\"/>\n",
              "    <path d=\"M18.56 5.44l.94 2.06.94-2.06 2.06-.94-2.06-.94-.94-2.06-.94 2.06-2.06.94zm-11 1L8.5 8.5l.94-2.06 2.06-.94-2.06-.94L8.5 2.5l-.94 2.06-2.06.94zm10 10l.94 2.06.94-2.06 2.06-.94-2.06-.94-.94-2.06-.94 2.06-2.06.94z\"/><path d=\"M17.41 7.96l-1.37-1.37c-.4-.4-.92-.59-1.43-.59-.52 0-1.04.2-1.43.59L10.3 9.45l-7.72 7.72c-.78.78-.78 2.05 0 2.83L4 21.41c.39.39.9.59 1.41.59.51 0 1.02-.2 1.41-.59l7.78-7.78 2.81-2.81c.8-.78.8-2.07 0-2.86zM5.41 20L4 18.59l7.72-7.72 1.47 1.35L5.41 20z\"/>\n",
              "  </svg>\n",
              "      </button>\n",
              "      \n",
              "  <style>\n",
              "    .colab-df-container {\n",
              "      display:flex;\n",
              "      flex-wrap:wrap;\n",
              "      gap: 12px;\n",
              "    }\n",
              "\n",
              "    .colab-df-convert {\n",
              "      background-color: #E8F0FE;\n",
              "      border: none;\n",
              "      border-radius: 50%;\n",
              "      cursor: pointer;\n",
              "      display: none;\n",
              "      fill: #1967D2;\n",
              "      height: 32px;\n",
              "      padding: 0 0 0 0;\n",
              "      width: 32px;\n",
              "    }\n",
              "\n",
              "    .colab-df-convert:hover {\n",
              "      background-color: #E2EBFA;\n",
              "      box-shadow: 0px 1px 2px rgba(60, 64, 67, 0.3), 0px 1px 3px 1px rgba(60, 64, 67, 0.15);\n",
              "      fill: #174EA6;\n",
              "    }\n",
              "\n",
              "    [theme=dark] .colab-df-convert {\n",
              "      background-color: #3B4455;\n",
              "      fill: #D2E3FC;\n",
              "    }\n",
              "\n",
              "    [theme=dark] .colab-df-convert:hover {\n",
              "      background-color: #434B5C;\n",
              "      box-shadow: 0px 1px 3px 1px rgba(0, 0, 0, 0.15);\n",
              "      filter: drop-shadow(0px 1px 2px rgba(0, 0, 0, 0.3));\n",
              "      fill: #FFFFFF;\n",
              "    }\n",
              "  </style>\n",
              "\n",
              "      <script>\n",
              "        const buttonEl =\n",
              "          document.querySelector('#df-4d9a727a-93cb-402d-a8b9-e2b4a7d4df3b button.colab-df-convert');\n",
              "        buttonEl.style.display =\n",
              "          google.colab.kernel.accessAllowed ? 'block' : 'none';\n",
              "\n",
              "        async function convertToInteractive(key) {\n",
              "          const element = document.querySelector('#df-4d9a727a-93cb-402d-a8b9-e2b4a7d4df3b');\n",
              "          const dataTable =\n",
              "            await google.colab.kernel.invokeFunction('convertToInteractive',\n",
              "                                                     [key], {});\n",
              "          if (!dataTable) return;\n",
              "\n",
              "          const docLinkHtml = 'Like what you see? Visit the ' +\n",
              "            '<a target=\"_blank\" href=https://colab.research.google.com/notebooks/data_table.ipynb>data table notebook</a>'\n",
              "            + ' to learn more about interactive tables.';\n",
              "          element.innerHTML = '';\n",
              "          dataTable['output_type'] = 'display_data';\n",
              "          await google.colab.output.renderOutput(dataTable, element);\n",
              "          const docLink = document.createElement('div');\n",
              "          docLink.innerHTML = docLinkHtml;\n",
              "          element.appendChild(docLink);\n",
              "        }\n",
              "      </script>\n",
              "    </div>\n",
              "  </div>\n",
              "  "
            ]
          },
          "metadata": {},
          "execution_count": 10
        }
      ]
    },
    {
      "cell_type": "markdown",
      "source": [
        "### 파이썬에서 XML데이터 다루기###\n",
        "\n",
        "* XML은 엘리먼트들이 계층 구조를 이루면서 정보를 표헌 \n",
        "* 엘리먼트는 시작태그와 종료태그가 있음\n",
        "* 부모 엘리먼트 - 자식 엘리먼트로 구분됨\n"
      ],
      "metadata": {
        "id": "XYsLF6CIv5nx"
      }
    },
    {
      "cell_type": "code",
      "source": [
        "import xml.etree.ElementTree as et\n",
        "\n",
        "x_str = \"\"\"\n",
        "\n",
        "<book>\n",
        "  <name>정성용</name>\n",
        "  <author>박해선</author>\n",
        "  <year>2022</year>\n",
        "</book>\n",
        "\"\"\"\n",
        "\n",
        "book = et.fromstring(x_str)\n",
        "print(type(book))\n",
        "print(book.tag)"
      ],
      "metadata": {
        "colab": {
          "base_uri": "https://localhost:8080/"
        },
        "id": "jlJ3JQssworT",
        "outputId": "e689d553-be38-41b3-ed1e-e4755bb4c5f1"
      },
      "execution_count": 2,
      "outputs": [
        {
          "output_type": "stream",
          "name": "stdout",
          "text": [
            "<class 'xml.etree.ElementTree.Element'>\n",
            "book\n"
          ]
        }
      ]
    },
    {
      "cell_type": "markdown",
      "source": [
        "* 자식 엘리먼트 확인하기: findtext 메서드"
      ],
      "metadata": {
        "id": "vrDHP5T1CIdx"
      }
    },
    {
      "cell_type": "code",
      "source": [
        "book_childs = list(book)\n",
        "print(book_childs)\n",
        "\n",
        "name, author, year = book_childs\n",
        "print(name.text)\n",
        "print(author.text)\n",
        "print(year.text)\n"
      ],
      "metadata": {
        "colab": {
          "base_uri": "https://localhost:8080/"
        },
        "id": "VB0h8DSgCQeg",
        "outputId": "9d4b3249-97f2-4c3c-8d7d-2e0b1968cfbb"
      },
      "execution_count": 6,
      "outputs": [
        {
          "output_type": "stream",
          "name": "stdout",
          "text": [
            "[<Element 'name' at 0x7ff1900c89f0>, <Element 'author' at 0x7ff1900c8a40>, <Element 'year' at 0x7ff1900c8a90>]\n",
            "정성용\n",
            "박해선\n",
            "2022\n",
            "정성용\n",
            "박해선\n",
            "2022\n"
          ]
        }
      ]
    },
    {
      "cell_type": "markdown",
      "source": [
        "* 순서대로 나열되어 있지 않은 자식 엘리먼트를 찾기위해서 findtext 메서드 활용\n"
      ],
      "metadata": {
        "id": "K09GhRtNDHc3"
      }
    },
    {
      "cell_type": "code",
      "source": [
        "\n",
        "name = book.findtext('name')\n",
        "author = book.findtext('author')\n",
        "year = book.findtext('year')\n",
        "print(name)\n",
        "print(author)\n",
        "print(year)"
      ],
      "metadata": {
        "colab": {
          "base_uri": "https://localhost:8080/"
        },
        "id": "n6V4_LEQDOQ3",
        "outputId": "d086d22b-44e3-4110-d8ae-fdf6a2718605"
      },
      "execution_count": 7,
      "outputs": [
        {
          "output_type": "stream",
          "name": "stdout",
          "text": [
            "정성용\n",
            "박해선\n",
            "2022\n"
          ]
        }
      ]
    },
    {
      "cell_type": "markdown",
      "source": [
        "* 두개 이상의 부모 엘리먼트가 있을 때\n",
        ">  XML은 배열 구조가 없음"
      ],
      "metadata": {
        "id": "ZGXZhs5eDYo_"
      }
    },
    {
      "cell_type": "code",
      "source": [
        "x2_str= \"\"\"\n",
        "<books>\n",
        "  <book>\n",
        "    <name>SYJ</name>\n",
        "    <author>KOS</author>\n",
        "    <year>2022</year>\n",
        "  </book>\n",
        "  <book>\n",
        "    <name>JJY</name>\n",
        "    <author>iiie</author>\n",
        "    <year>2098</year>\n",
        "  </book>\n",
        "</books>\n",
        "\"\"\"\n",
        "\n",
        "books = et.fromstring(x2_str)\n",
        "print(books.tag)"
      ],
      "metadata": {
        "colab": {
          "base_uri": "https://localhost:8080/"
        },
        "id": "7WXhug7EDlBr",
        "outputId": "1449f850-a8b1-44a9-996a-dd01451ab668"
      },
      "execution_count": 8,
      "outputs": [
        {
          "output_type": "stream",
          "name": "stdout",
          "text": [
            "books\n"
          ]
        }
      ]
    },
    {
      "cell_type": "markdown",
      "source": [
        "* 여러 개의 자식 엘리먼트 확인하기: findall 메서드, for 문"
      ],
      "metadata": {
        "id": "Uv9xLXcIEMaw"
      }
    },
    {
      "cell_type": "code",
      "source": [
        "for book in books.findall('book'):\n",
        "  name = book.findtext('name')\n",
        "  author = book.findtext('author')\n",
        "  year = book.findtext('year')\n",
        "  print(name)\n",
        "  print(author)\n",
        "  print(year)\n",
        "  print() ##빈칸#용"
      ],
      "metadata": {
        "colab": {
          "base_uri": "https://localhost:8080/"
        },
        "id": "DlLbUfE3ESgH",
        "outputId": "ec50470e-8fb3-421a-98fe-36fa6c89e6fe"
      },
      "execution_count": 12,
      "outputs": [
        {
          "output_type": "stream",
          "name": "stdout",
          "text": [
            "SYJ\n",
            "KOS\n",
            "2022\n",
            "\n",
            "JJY\n",
            "iiie\n",
            "2098\n",
            "\n"
          ]
        }
      ]
    },
    {
      "cell_type": "markdown",
      "source": [
        "* XML to pandas\n",
        "> pandas의 read.xml 사용하면 가능"
      ],
      "metadata": {
        "id": "Ovm1yiuwEt5W"
      }
    }
  ]
}
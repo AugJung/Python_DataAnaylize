{
  "nbformat": 4,
  "nbformat_minor": 0,
  "metadata": {
    "colab": {
      "provenance": [],
      "authorship_tag": "ABX9TyMlkMqWVbwPN+bHqba2uiPw",
      "include_colab_link": true
    },
    "kernelspec": {
      "name": "python3",
      "display_name": "Python 3"
    },
    "language_info": {
      "name": "python"
    }
  },
  "cells": [
    {
      "cell_type": "markdown",
      "metadata": {
        "id": "view-in-github",
        "colab_type": "text"
      },
      "source": [
        "<a href=\"https://colab.research.google.com/github/AugJung/Python_DataAnaylize/blob/Python/20230527.ipynb\" target=\"_parent\"><img src=\"https://colab.research.google.com/assets/colab-badge.svg\" alt=\"Open In Colab\"/></a>"
      ]
    },
    {
      "cell_type": "markdown",
      "source": [
        "# Chapter 2. 데이터 수집하기 #"
      ],
      "metadata": {
        "id": "KhxQvrqOtjqQ"
      }
    },
    {
      "cell_type": "markdown",
      "source": [
        "### 2-1 API 사용하기 ###\n",
        "* API란\n",
        "\n",
        "> 데이터베이스 접근이 힘들 때 필요한 데이터에 접근할 수  있게 해주는 것이 API(URL 형태)\n",
        "\n",
        "> 웹브라우저 <-> 웹 서버 간 정보전달 시 브라우저에서 HTTP를 보내면 HTML로 웹데이터를 전송해주는 방식이다\n",
        "\n",
        "> HTTP 프로토콜을 사용하여 API를 만들 때 웹기반 API라고 부른다.\n",
        "\n",
        "> 웹기반 API에서는 CSV파일 보다는 JSON, XML파일을 많이 쓴다 (데이터 구조 표현 범위가 넓음)"
      ],
      "metadata": {
        "id": "dVkknz2suX9V"
      }
    },
    {
      "cell_type": "markdown",
      "source": [
        "###JSON 데이터###\n",
        "\n",
        "키와 값을 콜론으로 연결하고 중괄호와 큰따옴표를 사용\n",
        "\n",
        "{\"키\":\"값\"}"
      ],
      "metadata": {
        "id": "USbE_LTWwf0Q"
      }
    },
    {
      "cell_type": "code",
      "execution_count": 1,
      "metadata": {
        "id": "aZtFLH-JrbPj",
        "colab": {
          "base_uri": "https://localhost:8080/"
        },
        "outputId": "b4d27c74-50b4-46e8-a645-76c3dd8fe829"
      },
      "outputs": [
        {
          "output_type": "stream",
          "name": "stdout",
          "text": [
            "정성용\n"
          ]
        }
      ],
      "source": [
        "d = {\"name\":\"정성용\"}\n",
        "print (d['name'])"
      ]
    },
    {
      "cell_type": "markdown",
      "source": [
        "###파이썬에서 JSON 데이터 다루기###\n",
        "json.dumps: 파이썬 객체를 json 문자열로 변환 (직렬화)\n",
        "\n",
        "json.loads: json 문자열을 파이썬 객체로 변환 (역직렬화)\n",
        "\n",
        "HTTP 프로토콜이 문자열 기반이라 문자열로 변경하여 데이터 전송"
      ],
      "metadata": {
        "id": "HYGA2_QNxn1u"
      }
    },
    {
      "cell_type": "code",
      "source": [
        "import json\n",
        "d_str=json.dumps(d,ensure_ascii=False)\n",
        "print(d_str)\n",
        "print(type(d_str))\n",
        "\n",
        "d2=json.loads(d_str)\n",
        "print(d2['name'])\n",
        "print(type(d2))"
      ],
      "metadata": {
        "colab": {
          "base_uri": "https://localhost:8080/"
        },
        "id": "J6PxDUGLxsCB",
        "outputId": "ccfa1172-4e38-47da-ce93-8a7c41786ce7"
      },
      "execution_count": 8,
      "outputs": [
        {
          "output_type": "stream",
          "name": "stdout",
          "text": [
            "{\"name\": \"정성용\"}\n",
            "<class 'str'>\n",
            "정성용\n",
            "<class 'dict'>\n"
          ]
        }
      ]
    }
  ]
}